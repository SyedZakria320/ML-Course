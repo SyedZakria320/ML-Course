{
 "cells": [
  {
   "cell_type": "code",
   "execution_count": 1,
   "id": "e84a89cd",
   "metadata": {},
   "outputs": [
    {
     "name": "stdout",
     "output_type": "stream",
     "text": [
      "Requirement already satisfied: python_mnist in e:\\anaconda\\lib\\site-packages (0.7)\n"
     ]
    }
   ],
   "source": [
    "import numpy as np\n",
    "import pandas as pd\n",
    "!pip install python_mnist"
   ]
  },
  {
   "cell_type": "code",
   "execution_count": 2,
   "id": "0cfa7a14",
   "metadata": {},
   "outputs": [
    {
     "name": "stdout",
     "output_type": "stream",
     "text": [
      "(60000, 784) (60000,) (10000, 784) (10000,)\n"
     ]
    }
   ],
   "source": [
    "from mnist import MNIST\n",
    "\n",
    "mnist_loader = MNIST('MNIST')\n",
    "train_data, train_label = mnist_loader.load_training()\n",
    "test_data, test_label = mnist_loader.load_testing()\n",
    "train_data = np.array(train_data, dtype='float')/255 # norm to [0,1]\n",
    "train_label = np.array(train_label, dtype='short')\n",
    "test_data = np.array(test_data, dtype='float')/255 # norm to [0,1]\n",
    "test_label = np.array(test_label, dtype='short')\n",
    "\n",
    "#add small random noise to avoid matrix singularity\n",
    "train_data += np.random.normal(0,0.0001,train_data.shape) \n",
    "\n",
    "print(train_data.shape, train_label.shape, test_data.shape, test_label.shape)"
   ]
  },
  {
   "cell_type": "code",
   "execution_count": 3,
   "id": "9587383b",
   "metadata": {},
   "outputs": [
    {
     "name": "stdout",
     "output_type": "stream",
     "text": [
      "(11982, 785)\n",
      "[-1 -1 -1 ...  1 -1  1]\n",
      "(1984, 785)\n",
      "[-1 -1 -1 ... -1  1 -1]\n"
     ]
    }
   ],
   "source": [
    "# prepare digits '3' and '8' for linear regression\n",
    "\n",
    "digit_train_index = np.logical_or(train_label == 3, train_label == 8)\n",
    "X_train = train_data[digit_train_index]\n",
    "y_train = train_label[digit_train_index]\n",
    "digit_test_index = np.logical_or(test_label == 3, test_label == 8)\n",
    "X_test = test_data[digit_test_index]\n",
    "y_test = test_label[digit_test_index]\n",
    "\n",
    "# add a constant column of '1' to accomodate the bias (see the margin note on page 107)\n",
    "\n",
    "X_train = np.hstack((X_train, np.ones((X_train.shape[0], 1), dtype=X_train.dtype)))\n",
    "X_test = np.hstack((X_test, np.ones((X_test.shape[0], 1), dtype=X_test.dtype)))\n",
    "\n",
    "# convert labels: '3' => -1, '8' => +1\n",
    "\n",
    "CUTOFF = 5 # any number between '3' and '8'\n",
    "y_train = np.sign(y_train-CUTOFF)\n",
    "y_test = np.sign(y_test-CUTOFF)\n",
    "\n",
    "print(X_train.shape)\n",
    "print(y_train)\n",
    "\n",
    "print(X_test.shape)\n",
    "print(y_test)"
   ]
  },
  {
   "cell_type": "code",
   "execution_count": 4,
   "id": "70676bcd",
   "metadata": {},
   "outputs": [
    {
     "name": "stdout",
     "output_type": "stream",
     "text": [
      "mean square error on training data for the closed-form solution: 0.19831\n",
      "classification accuracy on training data for the closed-form solution: 96.88%\n",
      "mean square error on test data for the closed-form solution: 0.23314\n",
      "classification accuracy on test data for the closed-form solution: 95.92%\n"
     ]
    }
   ],
   "source": [
    "# use the closed-form solution of ridge regression\n",
    "\n",
    "alpha = 0.001\n",
    "\n",
    "I = np.identity(785)\n",
    "\n",
    "w = np.linalg.inv((X_train.T @ X_train) + alpha*I) @ X_train.T @ y_train\n",
    "\n",
    "# calculate the mean square error and classification accuracy on the training set\n",
    "\n",
    "predict = X_train @ w \n",
    "error = np.sum((predict - y_train)*(predict - y_train))/X_train.shape[0]\n",
    "print(f'mean square error on training data for the closed-form solution: {error:.5f}')\n",
    "\n",
    "accuracy = np.count_nonzero(np.equal(np.sign(predict),y_train))/y_train.size*100.0\n",
    "print(f'classification accuracy on training data for the closed-form solution: {accuracy:.2f}%')\n",
    "\n",
    "# calculate the mean square error and classification accuracy on the test set\n",
    "\n",
    "predict = X_test @ w \n",
    "error = np.sum((predict - y_test)*(predict - y_test))/X_test.shape[0]\n",
    "print(f'mean square error on test data for the closed-form solution: {error:.5f}')\n",
    "\n",
    "accuracy = np.count_nonzero(np.equal(np.sign(predict),y_test))/y_test.size*100.0\n",
    "print(f'classification accuracy on test data for the closed-form solution: {accuracy:.2f}%')"
   ]
  },
  {
   "cell_type": "code",
   "execution_count": 5,
   "id": "b04da7e5",
   "metadata": {},
   "outputs": [
    {
     "name": "stdout",
     "output_type": "stream",
     "text": [
      "Mean squared error on training data: 0.19932\n",
      "Mean squared error on test data: 0.22398\n"
     ]
    }
   ],
   "source": [
    "# use ridge regression from sklearn\n",
    "\n",
    "from sklearn import model_selection\n",
    "from sklearn import linear_model\n",
    "from sklearn.linear_model import Ridge\n",
    "from sklearn.metrics import mean_squared_error\n",
    "\n",
    "# Create ridge regression object\n",
    "\n",
    "l_regr = linear_model.Ridge(alpha=0.1)\n",
    "\n",
    "# Train the model using the training set\n",
    "\n",
    "l_regr.fit(X_train, y_train)\n",
    "\n",
    "# Make predictions using the same training set\n",
    "\n",
    "predict = l_regr.predict(X_train)\n",
    "print(\"Mean squared error on training data: %.5f\" % mean_squared_error(y_train, predict))\n",
    "\n",
    "# Make predictions using the test set\n",
    "\n",
    "predict = l_regr.predict(X_test)\n",
    "print(\"Mean squared error on test data: %.5f\" % mean_squared_error(y_test, predict))"
   ]
  },
  {
   "cell_type": "code",
   "execution_count": 6,
   "id": "766b9f6e",
   "metadata": {},
   "outputs": [],
   "source": [
    "# solve ridge regression using gradient descent \n",
    "\n",
    "import numpy as np\n",
    "\n",
    "alpha = 0.001\n",
    "\n",
    "class Optimizer():\n",
    "  def __init__(self, lr, annealing_rate, batch_size, max_epochs):\n",
    "    self.lr = lr\n",
    "    self.annealing_rate = annealing_rate\n",
    "    self.batch_size = batch_size\n",
    "    self.max_epochs = max_epochs\n",
    "\n",
    "# X[N,d]: training features; y[N]: training targets; \n",
    "# X2[N,d]: test features; y2[N]: test targets;  \n",
    "# op: hyper-parameters for optimzer \n",
    "#\n",
    "# Note: X2 and y2 are not used in training\n",
    "#       but only for computting the learning curve B\n",
    "#\n",
    "def ridge_regression_gd2(X, y, X2, y2, op):\n",
    "  n = X.shape[0]   # number of samples\n",
    "  w = np.zeros(X.shape[1])  # initialization\n",
    "\n",
    "  lr = op.lr\n",
    "  errorsA = np.zeros(op.max_epochs)\n",
    "  errorsB = np.zeros(op.max_epochs)\n",
    "  errorsC = np.zeros(op.max_epochs)\n",
    "\n",
    "  for epoch in range(op.max_epochs):\n",
    "    indices = np.random.permutation(n)  #randomly shuffle data indices\n",
    "    for batch_start in range(0, n, op.batch_size):\n",
    "      X_batch = X[indices[batch_start:batch_start + op.batch_size]]\n",
    "      y_batch = y[indices[batch_start:batch_start + op.batch_size]]\n",
    "\n",
    "      # vectorization to compute gradients for a whole mini-batch (see the above formula)\n",
    "    \n",
    "      w_grad = X_batch.T @ X_batch @ w - X_batch.T @ y_batch + alpha*w\n",
    "\n",
    "      w -= lr * w_grad / X_batch.shape[0] \n",
    "\n",
    "    # for learning curve C\n",
    "    diff = X @ w - y  # prediction difference\n",
    "    errorsC[epoch] = np.sum(diff*diff)/n   \n",
    "\n",
    "    # for learning curve A\n",
    "    predict = np.sign(X @ w)\n",
    "    errorsA[epoch] = np.count_nonzero(np.equal(predict,y))/y.size \n",
    "\n",
    "    # for learning curve B\n",
    "    predict2 = np.sign(X2 @ w)\n",
    "    errorsB[epoch] = np.count_nonzero(np.equal(predict2,y2))/y2.size\n",
    "\n",
    "    lr *= op.annealing_rate\n",
    "    print(f'epoch={epoch}: the mean square error is {errorsC[epoch]:.3f} ({errorsA[epoch]:.3f},{errorsB[epoch]:.3f})')\n",
    "\n",
    "  return w, errorsA, errorsB, errorsC"
   ]
  },
  {
   "cell_type": "code",
   "execution_count": 8,
   "id": "bd56b6b9",
   "metadata": {},
   "outputs": [
    {
     "name": "stdout",
     "output_type": "stream",
     "text": [
      "epoch=0: the mean square error is 0.398 (0.911,0.921)\n",
      "epoch=1: the mean square error is 0.309 (0.930,0.943)\n",
      "epoch=2: the mean square error is 0.279 (0.939,0.952)\n",
      "epoch=3: the mean square error is 0.263 (0.944,0.957)\n",
      "epoch=4: the mean square error is 0.254 (0.949,0.959)\n",
      "epoch=5: the mean square error is 0.248 (0.951,0.961)\n",
      "epoch=6: the mean square error is 0.244 (0.953,0.961)\n",
      "epoch=7: the mean square error is 0.240 (0.954,0.963)\n",
      "epoch=8: the mean square error is 0.237 (0.955,0.963)\n",
      "epoch=9: the mean square error is 0.235 (0.956,0.964)\n",
      "epoch=10: the mean square error is 0.234 (0.957,0.964)\n",
      "epoch=11: the mean square error is 0.232 (0.958,0.964)\n",
      "epoch=12: the mean square error is 0.231 (0.958,0.964)\n",
      "epoch=13: the mean square error is 0.230 (0.958,0.964)\n",
      "epoch=14: the mean square error is 0.229 (0.959,0.964)\n",
      "epoch=15: the mean square error is 0.228 (0.960,0.964)\n",
      "epoch=16: the mean square error is 0.227 (0.960,0.965)\n",
      "epoch=17: the mean square error is 0.226 (0.959,0.962)\n",
      "epoch=18: the mean square error is 0.225 (0.960,0.962)\n",
      "epoch=19: the mean square error is 0.225 (0.960,0.963)\n"
     ]
    },
    {
     "data": {
      "text/plain": [
       "<matplotlib.legend.Legend at 0x29b827b6970>"
      ]
     },
     "execution_count": 8,
     "metadata": {},
     "output_type": "execute_result"
    },
    {
     "data": {
      "image/png": "[encoded data removed]",
      "text/plain": [
       "<Figure size 432x288 with 2 Axes>"
      ]
     },
     "metadata": {
      "needs_background": "light"
     },
     "output_type": "display_data"
    }
   ],
   "source": [
    "import matplotlib.pyplot as plt\n",
    "\n",
    "op = Optimizer(lr=0.001, annealing_rate=0.99, batch_size=50, max_epochs=20)\n",
    "\n",
    "w, A, B, C = ridge_regression_gd2(X_train, y_train, X_test, y_test, op)\n",
    "\n",
    "fig, ax = plt.subplots(2)\n",
    "fig.suptitle('monitoring three learning curves (A, B, C)')\n",
    "ax[0].plot(C, 'b', 0.196*np.ones(C.shape[0]), 'c--')\n",
    "ax[0].legend(['curve C', 'closed-form solution'])\n",
    "\n",
    "ax[1].plot(A, 'b', B, 'r')\n",
    "ax[1].legend(['curve A', 'curve B'])"
   ]
  },
  {
   "cell_type": "code",
   "execution_count": 10,
   "id": "1a782c2f",
   "metadata": {},
   "outputs": [
    {
     "name": "stdout",
     "output_type": "stream",
     "text": [
      "epoch=0: the mean square error is 0.235 (0.956,0.963)\n",
      "epoch=1: the mean square error is 0.224 (0.960,0.965)\n",
      "epoch=2: the mean square error is 0.220 (0.962,0.964)\n",
      "epoch=3: the mean square error is 0.217 (0.961,0.963)\n",
      "epoch=4: the mean square error is 0.218 (0.962,0.962)\n",
      "epoch=5: the mean square error is 0.214 (0.963,0.964)\n",
      "epoch=6: the mean square error is 0.213 (0.963,0.963)\n",
      "epoch=7: the mean square error is 0.213 (0.963,0.964)\n",
      "epoch=8: the mean square error is 0.212 (0.964,0.964)\n",
      "epoch=9: the mean square error is 0.211 (0.964,0.962)\n"
     ]
    },
    {
     "data": {
      "text/plain": [
       "<matplotlib.legend.Legend at 0x2198a18aac0>"
      ]
     },
     "execution_count": 10,
     "metadata": {},
     "output_type": "execute_result"
    },
    {
     "data": {
      "image/png": "[encoded data removed]",
      "text/plain": [
       "<Figure size 432x288 with 2 Axes>"
      ]
     },
     "metadata": {
      "needs_background": "light"
     },
     "output_type": "display_data"
    }
   ],
   "source": [
    "import matplotlib.pyplot as plt\n",
    "\n",
    "op = Optimizer(lr=0.001, annealing_rate=0.99, batch_size=5, max_epochs=10)\n",
    "\n",
    "w, A, B, C = ridge_regression_gd2(X_train, y_train, X_test, y_test, op)\n",
    "\n",
    "fig, ax = plt.subplots(2)\n",
    "fig.suptitle('monitoring three learning curves (A, B, C)')\n",
    "ax[0].plot(C, 'b', 0.199*np.ones(C.shape[0]), 'c--')\n",
    "ax[0].legend(['curve C', 'closed-form solution'])\n",
    "\n",
    "ax[1].plot(A, 'b', B, 'r')\n",
    "ax[1].legend(['curve A', 'curve B'])"
   ]
  }
 ],
 "metadata": {
  "kernelspec": {
   "display_name": "Python 3 (ipykernel)",
   "language": "python",
   "name": "python3"
  },
  "language_info": {
   "codemirror_mode": {
    "name": "ipython",
    "version": 3
   },
   "file_extension": ".py",
   "mimetype": "text/x-python",
   "name": "python",
   "nbconvert_exporter": "python",
   "pygments_lexer": "ipython3",
   "version": "3.9.12"
  }
 },
 "nbformat": 4,
 "nbformat_minor": 5
}
