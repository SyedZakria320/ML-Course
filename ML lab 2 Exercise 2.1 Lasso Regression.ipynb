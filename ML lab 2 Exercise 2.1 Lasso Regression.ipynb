{
 "cells": [
  {
   "cell_type": "code",
   "execution_count": 1,
   "id": "3e654dd0",
   "metadata": {},
   "outputs": [],
   "source": [
    "import numpy as np\n",
    "import pandas as pd"
   ]
  },
  {
   "cell_type": "code",
   "execution_count": 2,
   "id": "4d8333ff",
   "metadata": {},
   "outputs": [
    {
     "name": "stdout",
     "output_type": "stream",
     "text": [
      "(506, 13)\n",
      "(506,)\n"
     ]
    }
   ],
   "source": [
    "raw_data = pd.read_csv('boston.csv', header=None)\n",
    "\n",
    "data_rows = np.reshape(raw_data.to_numpy(), (506,14))\n",
    "data = data_rows[:,:13]\n",
    "target = data_rows[:,13]\n",
    "\n",
    "# normalize input features to zero-mean and unit-variance\n",
    "\n",
    "data = (data-np.mean(data, axis=0))/np.std(data, axis=0) \n",
    "\n",
    "print(data.shape)\n",
    "print(target.shape)"
   ]
  },
  {
   "cell_type": "code",
   "execution_count": 3,
   "id": "e00fbd46",
   "metadata": {},
   "outputs": [
    {
     "name": "stdout",
     "output_type": "stream",
     "text": [
      "(506, 14)\n"
     ]
    }
   ],
   "source": [
    "# add a constant column of '1' to accomodate the bias \n",
    "\n",
    "data_wb = np.hstack((data, np.ones((data.shape[0], 1), dtype=data.dtype)))\n",
    "\n",
    "print(data_wb.shape)"
   ]
  },
  {
   "cell_type": "code",
   "execution_count": 5,
   "id": "3449682a",
   "metadata": {},
   "outputs": [
    {
     "name": "stdout",
     "output_type": "stream",
     "text": [
      "Mean squared error: 21.89490\n"
     ]
    }
   ],
   "source": [
    "from sklearn import model_selection\n",
    "from sklearn import linear_model\n",
    "from sklearn.linear_model import Lasso\n",
    "from sklearn.metrics import mean_squared_error\n",
    "\n",
    "# Create lasso regression object\n",
    "\n",
    "l_regr = linear_model.Lasso(alpha=0.001)\n",
    "\n",
    "# Train the model using the training set\n",
    "\n",
    "l_regr.fit(data_wb, target)\n",
    "\n",
    "# Make predictions using the same training set\n",
    "\n",
    "predict = l_regr.predict(data_wb)\n",
    "\n",
    "# The mean squared error\n",
    "\n",
    "print(\"Mean squared error: %.5f\" % mean_squared_error(target, predict))"
   ]
  }
 ],
 "metadata": {
  "kernelspec": {
   "display_name": "Python 3 (ipykernel)",
   "language": "python",
   "name": "python3"
  },
  "language_info": {
   "codemirror_mode": {
    "name": "ipython",
    "version": 3
   },
   "file_extension": ".py",
   "mimetype": "text/x-python",
   "name": "python",
   "nbconvert_exporter": "python",
   "pygments_lexer": "ipython3",
   "version": "3.9.12"
  }
 },
 "nbformat": 4,
 "nbformat_minor": 5
}
